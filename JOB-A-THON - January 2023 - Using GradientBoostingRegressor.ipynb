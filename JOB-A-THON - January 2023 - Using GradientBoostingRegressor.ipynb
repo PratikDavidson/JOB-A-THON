{
 "cells": [
  {
   "cell_type": "markdown",
   "id": "a48d9dd9",
   "metadata": {},
   "source": [
    "# Imported Required Libraries:"
   ]
  },
  {
   "cell_type": "code",
   "execution_count": 1,
   "id": "b1ae8a7d",
   "metadata": {},
   "outputs": [],
   "source": [
    "import numpy as np\n",
    "import pandas as pd\n",
    "import matplotlib.pyplot as plt\n",
    "import seaborn as sns\n",
    "from sklearn.ensemble import GradientBoostingRegressor\n",
    "from sklearn.model_selection import train_test_split\n",
    "from sklearn.preprocessing import MinMaxScaler"
   ]
  },
  {
   "cell_type": "code",
   "execution_count": 17,
   "id": "d30a149b",
   "metadata": {},
   "outputs": [],
   "source": [
    "from sklearn.metrics import mean_squared_error,r2_score,explained_variance_score"
   ]
  },
  {
   "cell_type": "markdown",
   "id": "b0084167",
   "metadata": {},
   "source": [
    "# Loaded Training Data:"
   ]
  },
  {
   "cell_type": "code",
   "execution_count": 4,
   "id": "e38f007c",
   "metadata": {},
   "outputs": [],
   "source": [
    "train_data = pd.read_csv('D:\\\\ML\\\\DL Repo\\\\JOB-A-THON - January 2023\\\\train_BRCpofr.csv')"
   ]
  },
  {
   "cell_type": "markdown",
   "id": "be29b5d3",
   "metadata": {},
   "source": [
    "# Checking Training Data (Column names and it's values)"
   ]
  },
  {
   "cell_type": "code",
   "execution_count": 5,
   "id": "e17353e0",
   "metadata": {},
   "outputs": [
    {
     "data": {
      "text/html": [
       "<div>\n",
       "<style scoped>\n",
       "    .dataframe tbody tr th:only-of-type {\n",
       "        vertical-align: middle;\n",
       "    }\n",
       "\n",
       "    .dataframe tbody tr th {\n",
       "        vertical-align: top;\n",
       "    }\n",
       "\n",
       "    .dataframe thead th {\n",
       "        text-align: right;\n",
       "    }\n",
       "</style>\n",
       "<table border=\"1\" class=\"dataframe\">\n",
       "  <thead>\n",
       "    <tr style=\"text-align: right;\">\n",
       "      <th></th>\n",
       "      <th>gender</th>\n",
       "      <th>area</th>\n",
       "      <th>qualification</th>\n",
       "      <th>income</th>\n",
       "      <th>marital_status</th>\n",
       "      <th>vintage</th>\n",
       "      <th>claim_amount</th>\n",
       "      <th>num_policies</th>\n",
       "      <th>policy</th>\n",
       "      <th>type_of_policy</th>\n",
       "      <th>cltv</th>\n",
       "    </tr>\n",
       "  </thead>\n",
       "  <tbody>\n",
       "    <tr>\n",
       "      <th>0</th>\n",
       "      <td>0</td>\n",
       "      <td>1</td>\n",
       "      <td>2</td>\n",
       "      <td>2</td>\n",
       "      <td>1</td>\n",
       "      <td>5</td>\n",
       "      <td>5790</td>\n",
       "      <td>2</td>\n",
       "      <td>2</td>\n",
       "      <td>2</td>\n",
       "      <td>64308</td>\n",
       "    </tr>\n",
       "    <tr>\n",
       "      <th>1</th>\n",
       "      <td>0</td>\n",
       "      <td>0</td>\n",
       "      <td>1</td>\n",
       "      <td>2</td>\n",
       "      <td>0</td>\n",
       "      <td>8</td>\n",
       "      <td>5080</td>\n",
       "      <td>2</td>\n",
       "      <td>2</td>\n",
       "      <td>2</td>\n",
       "      <td>515400</td>\n",
       "    </tr>\n",
       "    <tr>\n",
       "      <th>2</th>\n",
       "      <td>0</td>\n",
       "      <td>1</td>\n",
       "      <td>2</td>\n",
       "      <td>2</td>\n",
       "      <td>1</td>\n",
       "      <td>8</td>\n",
       "      <td>2599</td>\n",
       "      <td>2</td>\n",
       "      <td>2</td>\n",
       "      <td>2</td>\n",
       "      <td>64212</td>\n",
       "    </tr>\n",
       "    <tr>\n",
       "      <th>3</th>\n",
       "      <td>1</td>\n",
       "      <td>0</td>\n",
       "      <td>1</td>\n",
       "      <td>2</td>\n",
       "      <td>0</td>\n",
       "      <td>7</td>\n",
       "      <td>0</td>\n",
       "      <td>2</td>\n",
       "      <td>2</td>\n",
       "      <td>2</td>\n",
       "      <td>97920</td>\n",
       "    </tr>\n",
       "    <tr>\n",
       "      <th>4</th>\n",
       "      <td>0</td>\n",
       "      <td>1</td>\n",
       "      <td>1</td>\n",
       "      <td>3</td>\n",
       "      <td>1</td>\n",
       "      <td>6</td>\n",
       "      <td>3508</td>\n",
       "      <td>2</td>\n",
       "      <td>2</td>\n",
       "      <td>1</td>\n",
       "      <td>59736</td>\n",
       "    </tr>\n",
       "  </tbody>\n",
       "</table>\n",
       "</div>"
      ],
      "text/plain": [
       "   gender  area  qualification  income  marital_status  vintage  claim_amount  \\\n",
       "0       0     1              2       2               1        5          5790   \n",
       "1       0     0              1       2               0        8          5080   \n",
       "2       0     1              2       2               1        8          2599   \n",
       "3       1     0              1       2               0        7             0   \n",
       "4       0     1              1       3               1        6          3508   \n",
       "\n",
       "   num_policies  policy  type_of_policy    cltv  \n",
       "0             2       2               2   64308  \n",
       "1             2       2               2  515400  \n",
       "2             2       2               2   64212  \n",
       "3             2       2               2   97920  \n",
       "4             2       2               1   59736  "
      ]
     },
     "execution_count": 5,
     "metadata": {},
     "output_type": "execute_result"
    }
   ],
   "source": [
    "train_data.head()"
   ]
  },
  {
   "cell_type": "markdown",
   "id": "85e82481",
   "metadata": {},
   "source": [
    "# Created valriable to store input data column names:"
   ]
  },
  {
   "cell_type": "code",
   "execution_count": 3,
   "id": "1e237493",
   "metadata": {},
   "outputs": [],
   "source": [
    "train_columns = list(['gender','area','qualification','income','marital_status','vintage','claim_amount','num_policies','policy','type_of_policy'])"
   ]
  },
  {
   "cell_type": "markdown",
   "id": "3a0d00cf",
   "metadata": {},
   "source": [
    "# Spliting training data to use for both training & validating the model:"
   ]
  },
  {
   "cell_type": "code",
   "execution_count": 6,
   "id": "67c4c648",
   "metadata": {},
   "outputs": [],
   "source": [
    "X_train,X_test,Y_train,Y_test = train_test_split(train_data[train_columns],train_data['cltv'],test_size = 0.3,random_state = 1)"
   ]
  },
  {
   "cell_type": "markdown",
   "id": "a7b899b1",
   "metadata": {},
   "source": [
    "# Scaling input data (claim_amount):"
   ]
  },
  {
   "cell_type": "code",
   "execution_count": 7,
   "id": "f0e29bff",
   "metadata": {},
   "outputs": [
    {
     "data": {
      "text/plain": [
       "array([[0.16965573],\n",
       "       [0.09054995],\n",
       "       [0.11202734],\n",
       "       [0.        ],\n",
       "       [0.        ]])"
      ]
     },
     "execution_count": 7,
     "metadata": {},
     "output_type": "execute_result"
    }
   ],
   "source": [
    "X_mms = MinMaxScaler()\n",
    "claim_amount_train = X_mms.fit_transform(np.array(X_train['claim_amount']).reshape(-1,1))\n",
    "claim_amount_test = X_mms.transform(np.array(X_test['claim_amount']).reshape(-1,1))\n",
    "claim_amount_train[:5]"
   ]
  },
  {
   "cell_type": "markdown",
   "id": "29fc9626",
   "metadata": {},
   "source": [
    "# Scaling target data (cltv):"
   ]
  },
  {
   "cell_type": "code",
   "execution_count": 8,
   "id": "1847cc10",
   "metadata": {},
   "outputs": [
    {
     "data": {
      "text/plain": [
       "array([[0.44769178],\n",
       "       [0.6371203 ],\n",
       "       [0.05677021],\n",
       "       [0.02871117],\n",
       "       [0.01211601]])"
      ]
     },
     "execution_count": 8,
     "metadata": {},
     "output_type": "execute_result"
    }
   ],
   "source": [
    "Y_mms = MinMaxScaler()\n",
    "cltv_train = Y_mms.fit_transform(np.array(Y_train).reshape(-1,1))\n",
    "cltv__test = Y_mms.transform(np.array(Y_test).reshape(-1,1))\n",
    "cltv_train[:5]"
   ]
  },
  {
   "cell_type": "markdown",
   "id": "5e8cc85e",
   "metadata": {},
   "source": [
    "# Training variables are updated as per scaled data:"
   ]
  },
  {
   "cell_type": "code",
   "execution_count": 9,
   "id": "5a5e6382",
   "metadata": {},
   "outputs": [],
   "source": [
    "X_train['claim_amount'] = claim_amount_train\n",
    "X_test['claim_amount'] = claim_amount_test\n",
    "Y_train = cltv_train\n",
    "Y_test = cltv__test"
   ]
  },
  {
   "cell_type": "code",
   "execution_count": 14,
   "id": "a05ed884",
   "metadata": {},
   "outputs": [
    {
     "data": {
      "text/plain": [
       "(62574, 1)"
      ]
     },
     "execution_count": 14,
     "metadata": {},
     "output_type": "execute_result"
    }
   ],
   "source": [
    "Y_train.shape"
   ]
  },
  {
   "cell_type": "markdown",
   "id": "066552f1",
   "metadata": {},
   "source": [
    "# Converting all data into numpy array:"
   ]
  },
  {
   "cell_type": "code",
   "execution_count": 11,
   "id": "03224ae2",
   "metadata": {},
   "outputs": [],
   "source": [
    "X_train_np,X_test_np,Y_train_np,Y_test_np = np.array(X_train),np.array(X_test),Y_train,Y_test"
   ]
  },
  {
   "cell_type": "markdown",
   "id": "760d1b1a",
   "metadata": {},
   "source": [
    "# Model Creation:"
   ]
  },
  {
   "cell_type": "code",
   "execution_count": 12,
   "id": "b903d675",
   "metadata": {},
   "outputs": [],
   "source": [
    "model = GradientBoostingRegressor()"
   ]
  },
  {
   "cell_type": "markdown",
   "id": "7f1e7a72",
   "metadata": {},
   "source": [
    "# Model trainging:"
   ]
  },
  {
   "cell_type": "code",
   "execution_count": 13,
   "id": "f471e0f0",
   "metadata": {},
   "outputs": [
    {
     "name": "stderr",
     "output_type": "stream",
     "text": [
      "D:\\Anaconda\\envs\\GPU\\lib\\site-packages\\sklearn\\ensemble\\_gb.py:494: DataConversionWarning: A column-vector y was passed when a 1d array was expected. Please change the shape of y to (n_samples, ), for example using ravel().\n",
      "  y = column_or_1d(y, warn=True)\n"
     ]
    },
    {
     "data": {
      "text/plain": [
       "GradientBoostingRegressor()"
      ]
     },
     "execution_count": 13,
     "metadata": {},
     "output_type": "execute_result"
    }
   ],
   "source": [
    "model.fit(X_train_np,Y_train_np)"
   ]
  },
  {
   "cell_type": "markdown",
   "id": "cb2a4d12",
   "metadata": {},
   "source": [
    "# Model Prediction on vaidation data:"
   ]
  },
  {
   "cell_type": "code",
   "execution_count": 15,
   "id": "30cd8fa4",
   "metadata": {},
   "outputs": [],
   "source": [
    " y_pred = model.predict(X_test_np)"
   ]
  },
  {
   "cell_type": "markdown",
   "id": "73d3adba",
   "metadata": {},
   "source": [
    "# Calculating model performance variable:"
   ]
  },
  {
   "cell_type": "code",
   "execution_count": 18,
   "id": "a2419dca",
   "metadata": {},
   "outputs": [
    {
     "data": {
      "text/plain": [
       "0.16035911745448583"
      ]
     },
     "execution_count": 18,
     "metadata": {},
     "output_type": "execute_result"
    }
   ],
   "source": [
    "explained_variance_score(Y_test_np, y_pred)"
   ]
  },
  {
   "cell_type": "code",
   "execution_count": 19,
   "id": "81a8c807",
   "metadata": {},
   "outputs": [
    {
     "data": {
      "text/plain": [
       "0.013802224283127773"
      ]
     },
     "execution_count": 19,
     "metadata": {},
     "output_type": "execute_result"
    }
   ],
   "source": [
    "mean_squared_error(Y_test_np, y_pred)"
   ]
  },
  {
   "cell_type": "code",
   "execution_count": 20,
   "id": "4aef659c",
   "metadata": {},
   "outputs": [
    {
     "data": {
      "text/plain": [
       "0.16034366406979583"
      ]
     },
     "execution_count": 20,
     "metadata": {},
     "output_type": "execute_result"
    }
   ],
   "source": [
    "r2_score(Y_test_np, y_pred)"
   ]
  },
  {
   "cell_type": "markdown",
   "id": "196ca51a",
   "metadata": {},
   "source": [
    "# Loaded Test Data:"
   ]
  },
  {
   "cell_type": "code",
   "execution_count": 21,
   "id": "ec6305b8",
   "metadata": {},
   "outputs": [],
   "source": [
    "test_data = pd.read_csv('D:\\\\ML\\\\DL Repo\\\\JOB-A-THON - January 2023\\\\test_koRSKBP.csv')"
   ]
  },
  {
   "cell_type": "markdown",
   "id": "2c1a0b46",
   "metadata": {},
   "source": [
    "# Creation/export Submission data"
   ]
  },
  {
   "cell_type": "code",
   "execution_count": 22,
   "id": "945b593a",
   "metadata": {},
   "outputs": [
    {
     "data": {
      "text/html": [
       "<div>\n",
       "<style scoped>\n",
       "    .dataframe tbody tr th:only-of-type {\n",
       "        vertical-align: middle;\n",
       "    }\n",
       "\n",
       "    .dataframe tbody tr th {\n",
       "        vertical-align: top;\n",
       "    }\n",
       "\n",
       "    .dataframe thead th {\n",
       "        text-align: right;\n",
       "    }\n",
       "</style>\n",
       "<table border=\"1\" class=\"dataframe\">\n",
       "  <thead>\n",
       "    <tr style=\"text-align: right;\">\n",
       "      <th></th>\n",
       "      <th>id</th>\n",
       "      <th>gender</th>\n",
       "      <th>area</th>\n",
       "      <th>qualification</th>\n",
       "      <th>income</th>\n",
       "      <th>marital_status</th>\n",
       "      <th>vintage</th>\n",
       "      <th>claim_amount</th>\n",
       "      <th>num_policies</th>\n",
       "      <th>policy</th>\n",
       "      <th>type_of_policy</th>\n",
       "    </tr>\n",
       "  </thead>\n",
       "  <tbody>\n",
       "    <tr>\n",
       "      <th>0</th>\n",
       "      <td>89393</td>\n",
       "      <td>1</td>\n",
       "      <td>0</td>\n",
       "      <td>1</td>\n",
       "      <td>2</td>\n",
       "      <td>0</td>\n",
       "      <td>6</td>\n",
       "      <td>2134</td>\n",
       "      <td>2</td>\n",
       "      <td>1</td>\n",
       "      <td>0</td>\n",
       "    </tr>\n",
       "    <tr>\n",
       "      <th>1</th>\n",
       "      <td>89394</td>\n",
       "      <td>1</td>\n",
       "      <td>1</td>\n",
       "      <td>1</td>\n",
       "      <td>1</td>\n",
       "      <td>0</td>\n",
       "      <td>4</td>\n",
       "      <td>4102</td>\n",
       "      <td>2</td>\n",
       "      <td>2</td>\n",
       "      <td>2</td>\n",
       "    </tr>\n",
       "    <tr>\n",
       "      <th>2</th>\n",
       "      <td>89395</td>\n",
       "      <td>0</td>\n",
       "      <td>0</td>\n",
       "      <td>1</td>\n",
       "      <td>2</td>\n",
       "      <td>1</td>\n",
       "      <td>7</td>\n",
       "      <td>2925</td>\n",
       "      <td>2</td>\n",
       "      <td>1</td>\n",
       "      <td>1</td>\n",
       "    </tr>\n",
       "    <tr>\n",
       "      <th>3</th>\n",
       "      <td>89396</td>\n",
       "      <td>1</td>\n",
       "      <td>0</td>\n",
       "      <td>2</td>\n",
       "      <td>3</td>\n",
       "      <td>1</td>\n",
       "      <td>2</td>\n",
       "      <td>0</td>\n",
       "      <td>2</td>\n",
       "      <td>1</td>\n",
       "      <td>0</td>\n",
       "    </tr>\n",
       "    <tr>\n",
       "      <th>4</th>\n",
       "      <td>89397</td>\n",
       "      <td>1</td>\n",
       "      <td>1</td>\n",
       "      <td>1</td>\n",
       "      <td>1</td>\n",
       "      <td>0</td>\n",
       "      <td>5</td>\n",
       "      <td>14059</td>\n",
       "      <td>2</td>\n",
       "      <td>1</td>\n",
       "      <td>0</td>\n",
       "    </tr>\n",
       "  </tbody>\n",
       "</table>\n",
       "</div>"
      ],
      "text/plain": [
       "      id  gender  area  qualification  income  marital_status  vintage  \\\n",
       "0  89393       1     0              1       2               0        6   \n",
       "1  89394       1     1              1       1               0        4   \n",
       "2  89395       0     0              1       2               1        7   \n",
       "3  89396       1     0              2       3               1        2   \n",
       "4  89397       1     1              1       1               0        5   \n",
       "\n",
       "   claim_amount  num_policies  policy  type_of_policy  \n",
       "0          2134             2       1               0  \n",
       "1          4102             2       2               2  \n",
       "2          2925             2       1               1  \n",
       "3             0             2       1               0  \n",
       "4         14059             2       1               0  "
      ]
     },
     "execution_count": 22,
     "metadata": {},
     "output_type": "execute_result"
    }
   ],
   "source": [
    "test_data.head()"
   ]
  },
  {
   "cell_type": "code",
   "execution_count": 23,
   "id": "3a36e312",
   "metadata": {},
   "outputs": [
    {
     "data": {
      "text/plain": [
       "array([[0.06690914],\n",
       "       [0.12861353],\n",
       "       [0.09171004],\n",
       "       [0.        ],\n",
       "       [0.44080391]])"
      ]
     },
     "execution_count": 23,
     "metadata": {},
     "output_type": "execute_result"
    }
   ],
   "source": [
    "ca = X_mms.transform(np.array(test_data['claim_amount']).reshape(-1,1))\n",
    "ca[:5]"
   ]
  },
  {
   "cell_type": "code",
   "execution_count": 24,
   "id": "3e34c77f",
   "metadata": {},
   "outputs": [
    {
     "data": {
      "text/html": [
       "<div>\n",
       "<style scoped>\n",
       "    .dataframe tbody tr th:only-of-type {\n",
       "        vertical-align: middle;\n",
       "    }\n",
       "\n",
       "    .dataframe tbody tr th {\n",
       "        vertical-align: top;\n",
       "    }\n",
       "\n",
       "    .dataframe thead th {\n",
       "        text-align: right;\n",
       "    }\n",
       "</style>\n",
       "<table border=\"1\" class=\"dataframe\">\n",
       "  <thead>\n",
       "    <tr style=\"text-align: right;\">\n",
       "      <th></th>\n",
       "      <th>id</th>\n",
       "      <th>gender</th>\n",
       "      <th>area</th>\n",
       "      <th>qualification</th>\n",
       "      <th>income</th>\n",
       "      <th>marital_status</th>\n",
       "      <th>vintage</th>\n",
       "      <th>claim_amount</th>\n",
       "      <th>num_policies</th>\n",
       "      <th>policy</th>\n",
       "      <th>type_of_policy</th>\n",
       "    </tr>\n",
       "  </thead>\n",
       "  <tbody>\n",
       "    <tr>\n",
       "      <th>0</th>\n",
       "      <td>89393</td>\n",
       "      <td>1</td>\n",
       "      <td>0</td>\n",
       "      <td>1</td>\n",
       "      <td>2</td>\n",
       "      <td>0</td>\n",
       "      <td>6</td>\n",
       "      <td>0.066909</td>\n",
       "      <td>2</td>\n",
       "      <td>1</td>\n",
       "      <td>0</td>\n",
       "    </tr>\n",
       "    <tr>\n",
       "      <th>1</th>\n",
       "      <td>89394</td>\n",
       "      <td>1</td>\n",
       "      <td>1</td>\n",
       "      <td>1</td>\n",
       "      <td>1</td>\n",
       "      <td>0</td>\n",
       "      <td>4</td>\n",
       "      <td>0.128614</td>\n",
       "      <td>2</td>\n",
       "      <td>2</td>\n",
       "      <td>2</td>\n",
       "    </tr>\n",
       "    <tr>\n",
       "      <th>2</th>\n",
       "      <td>89395</td>\n",
       "      <td>0</td>\n",
       "      <td>0</td>\n",
       "      <td>1</td>\n",
       "      <td>2</td>\n",
       "      <td>1</td>\n",
       "      <td>7</td>\n",
       "      <td>0.091710</td>\n",
       "      <td>2</td>\n",
       "      <td>1</td>\n",
       "      <td>1</td>\n",
       "    </tr>\n",
       "    <tr>\n",
       "      <th>3</th>\n",
       "      <td>89396</td>\n",
       "      <td>1</td>\n",
       "      <td>0</td>\n",
       "      <td>2</td>\n",
       "      <td>3</td>\n",
       "      <td>1</td>\n",
       "      <td>2</td>\n",
       "      <td>0.000000</td>\n",
       "      <td>2</td>\n",
       "      <td>1</td>\n",
       "      <td>0</td>\n",
       "    </tr>\n",
       "    <tr>\n",
       "      <th>4</th>\n",
       "      <td>89397</td>\n",
       "      <td>1</td>\n",
       "      <td>1</td>\n",
       "      <td>1</td>\n",
       "      <td>1</td>\n",
       "      <td>0</td>\n",
       "      <td>5</td>\n",
       "      <td>0.440804</td>\n",
       "      <td>2</td>\n",
       "      <td>1</td>\n",
       "      <td>0</td>\n",
       "    </tr>\n",
       "  </tbody>\n",
       "</table>\n",
       "</div>"
      ],
      "text/plain": [
       "      id  gender  area  qualification  income  marital_status  vintage  \\\n",
       "0  89393       1     0              1       2               0        6   \n",
       "1  89394       1     1              1       1               0        4   \n",
       "2  89395       0     0              1       2               1        7   \n",
       "3  89396       1     0              2       3               1        2   \n",
       "4  89397       1     1              1       1               0        5   \n",
       "\n",
       "   claim_amount  num_policies  policy  type_of_policy  \n",
       "0      0.066909             2       1               0  \n",
       "1      0.128614             2       2               2  \n",
       "2      0.091710             2       1               1  \n",
       "3      0.000000             2       1               0  \n",
       "4      0.440804             2       1               0  "
      ]
     },
     "execution_count": 24,
     "metadata": {},
     "output_type": "execute_result"
    }
   ],
   "source": [
    "test_data['claim_amount'] = ca\n",
    "test_data.head()"
   ]
  },
  {
   "cell_type": "code",
   "execution_count": 27,
   "id": "9741b9ad",
   "metadata": {},
   "outputs": [
    {
     "data": {
      "text/plain": [
       "array([0.10107732, 0.14739056, 0.09645678, 0.09093685, 0.15535375])"
      ]
     },
     "execution_count": 27,
     "metadata": {},
     "output_type": "execute_result"
    }
   ],
   "source": [
    "y_pred = model.predict(np.array(test_data[train_columns]))\n",
    "y_pred[:5]"
   ]
  },
  {
   "cell_type": "code",
   "execution_count": 29,
   "id": "09636a1a",
   "metadata": {},
   "outputs": [
    {
     "data": {
      "text/plain": [
       "array([[ 95505.3072386 ],\n",
       "       [127889.37513804],\n",
       "       [ 92274.43806097],\n",
       "       [ 88414.68482123],\n",
       "       [133457.55655678]])"
      ]
     },
     "execution_count": 29,
     "metadata": {},
     "output_type": "execute_result"
    }
   ],
   "source": [
    "y_pred_actual = Y_mms.inverse_transform(y_pred.reshape(-1,1))\n",
    "y_pred_actual[:5]"
   ]
  },
  {
   "cell_type": "code",
   "execution_count": 34,
   "id": "b9668f61",
   "metadata": {},
   "outputs": [],
   "source": [
    "test_result = pd.DataFrame([test_data['id'].squeeze(),np.squeeze(y_pred_actual)]).T\n"
   ]
  },
  {
   "cell_type": "code",
   "execution_count": 35,
   "id": "58737163",
   "metadata": {},
   "outputs": [
    {
     "data": {
      "text/html": [
       "<div>\n",
       "<style scoped>\n",
       "    .dataframe tbody tr th:only-of-type {\n",
       "        vertical-align: middle;\n",
       "    }\n",
       "\n",
       "    .dataframe tbody tr th {\n",
       "        vertical-align: top;\n",
       "    }\n",
       "\n",
       "    .dataframe thead th {\n",
       "        text-align: right;\n",
       "    }\n",
       "</style>\n",
       "<table border=\"1\" class=\"dataframe\">\n",
       "  <thead>\n",
       "    <tr style=\"text-align: right;\">\n",
       "      <th></th>\n",
       "      <th>id</th>\n",
       "      <th>cltv</th>\n",
       "    </tr>\n",
       "  </thead>\n",
       "  <tbody>\n",
       "    <tr>\n",
       "      <th>0</th>\n",
       "      <td>89393.0</td>\n",
       "      <td>95505.307239</td>\n",
       "    </tr>\n",
       "    <tr>\n",
       "      <th>1</th>\n",
       "      <td>89394.0</td>\n",
       "      <td>127889.375138</td>\n",
       "    </tr>\n",
       "    <tr>\n",
       "      <th>2</th>\n",
       "      <td>89395.0</td>\n",
       "      <td>92274.438061</td>\n",
       "    </tr>\n",
       "    <tr>\n",
       "      <th>3</th>\n",
       "      <td>89396.0</td>\n",
       "      <td>88414.684821</td>\n",
       "    </tr>\n",
       "    <tr>\n",
       "      <th>4</th>\n",
       "      <td>89397.0</td>\n",
       "      <td>133457.556557</td>\n",
       "    </tr>\n",
       "  </tbody>\n",
       "</table>\n",
       "</div>"
      ],
      "text/plain": [
       "        id           cltv\n",
       "0  89393.0   95505.307239\n",
       "1  89394.0  127889.375138\n",
       "2  89395.0   92274.438061\n",
       "3  89396.0   88414.684821\n",
       "4  89397.0  133457.556557"
      ]
     },
     "execution_count": 35,
     "metadata": {},
     "output_type": "execute_result"
    }
   ],
   "source": [
    "test_result = test_result.rename(columns={'Unnamed 0':'cltv'})\n",
    "test_result.head()"
   ]
  },
  {
   "cell_type": "code",
   "execution_count": 36,
   "id": "639a4fdb",
   "metadata": {},
   "outputs": [],
   "source": [
    "test_result.to_csv('D:\\\\ML\\\\DL Repo\\\\JOB-A-THON - January 2023\\\\test_result_GBR.csv',index=False)"
   ]
  },
  {
   "cell_type": "code",
   "execution_count": null,
   "id": "9e3705f3",
   "metadata": {},
   "outputs": [],
   "source": []
  }
 ],
 "metadata": {
  "kernelspec": {
   "display_name": "Python 3 (ipykernel)",
   "language": "python",
   "name": "python3"
  },
  "language_info": {
   "codemirror_mode": {
    "name": "ipython",
    "version": 3
   },
   "file_extension": ".py",
   "mimetype": "text/x-python",
   "name": "python",
   "nbconvert_exporter": "python",
   "pygments_lexer": "ipython3",
   "version": "3.10.4"
  }
 },
 "nbformat": 4,
 "nbformat_minor": 5
}
