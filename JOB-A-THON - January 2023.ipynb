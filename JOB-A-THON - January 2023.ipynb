{
 "cells": [
  {
   "cell_type": "markdown",
   "id": "8d0f1a9f",
   "metadata": {},
   "source": [
    "# Imported Required Libraries:"
   ]
  },
  {
   "cell_type": "code",
   "execution_count": 9,
   "id": "dd6c3f6f",
   "metadata": {},
   "outputs": [],
   "source": [
    "import pandas as pd\n",
    "import numpy as np\n",
    "import matplotlib.pyplot as plt\n",
    "import seaborn as sns"
   ]
  },
  {
   "cell_type": "code",
   "execution_count": 62,
   "id": "3219dc85",
   "metadata": {},
   "outputs": [],
   "source": [
    "from time import time\n",
    "from sklearn.metrics import mean_squared_error,r2_score,explained_variance_score"
   ]
  },
  {
   "cell_type": "code",
   "execution_count": 41,
   "id": "5417fe34",
   "metadata": {},
   "outputs": [],
   "source": [
    "from sklearn.linear_model import LinearRegression\n",
    "from sklearn.tree import DecisionTreeRegressor\n",
    "from sklearn.ensemble import RandomForestRegressor\n",
    "from sklearn.ensemble import GradientBoostingRegressor\n",
    "from sklearn.neighbors import KNeighborsRegressor\n",
    "from sklearn.linear_model import Ridge,Lasso\n",
    "from sklearn.metrics import mean_squared_error\n",
    "from sklearn.model_selection import train_test_split\n",
    "from sklearn.preprocessing import MinMaxScaler"
   ]
  },
  {
   "cell_type": "markdown",
   "id": "f9594ba6",
   "metadata": {},
   "source": [
    "# Loaded Training Data:"
   ]
  },
  {
   "cell_type": "code",
   "execution_count": 11,
   "id": "c17fb1e0",
   "metadata": {},
   "outputs": [],
   "source": [
    "train_data = pd.read_csv('D:\\ML\\DL Repo\\JOB-A-THON - January 2023\\\\train_BRCpofr.csv')"
   ]
  },
  {
   "cell_type": "markdown",
   "id": "b5beead0",
   "metadata": {},
   "source": [
    "# Checking Training Data (Column names and it's values)"
   ]
  },
  {
   "cell_type": "code",
   "execution_count": 12,
   "id": "822db7f1",
   "metadata": {},
   "outputs": [
    {
     "data": {
      "text/html": [
       "<div>\n",
       "<style scoped>\n",
       "    .dataframe tbody tr th:only-of-type {\n",
       "        vertical-align: middle;\n",
       "    }\n",
       "\n",
       "    .dataframe tbody tr th {\n",
       "        vertical-align: top;\n",
       "    }\n",
       "\n",
       "    .dataframe thead th {\n",
       "        text-align: right;\n",
       "    }\n",
       "</style>\n",
       "<table border=\"1\" class=\"dataframe\">\n",
       "  <thead>\n",
       "    <tr style=\"text-align: right;\">\n",
       "      <th></th>\n",
       "      <th>gender</th>\n",
       "      <th>area</th>\n",
       "      <th>qualification</th>\n",
       "      <th>income</th>\n",
       "      <th>marital_status</th>\n",
       "      <th>vintage</th>\n",
       "      <th>claim_amount</th>\n",
       "      <th>num_policies</th>\n",
       "      <th>policy</th>\n",
       "      <th>type_of_policy</th>\n",
       "      <th>cltv</th>\n",
       "    </tr>\n",
       "  </thead>\n",
       "  <tbody>\n",
       "    <tr>\n",
       "      <th>0</th>\n",
       "      <td>0</td>\n",
       "      <td>1</td>\n",
       "      <td>2</td>\n",
       "      <td>2</td>\n",
       "      <td>1</td>\n",
       "      <td>5</td>\n",
       "      <td>5790</td>\n",
       "      <td>2</td>\n",
       "      <td>2</td>\n",
       "      <td>2</td>\n",
       "      <td>64308</td>\n",
       "    </tr>\n",
       "    <tr>\n",
       "      <th>1</th>\n",
       "      <td>0</td>\n",
       "      <td>0</td>\n",
       "      <td>1</td>\n",
       "      <td>2</td>\n",
       "      <td>0</td>\n",
       "      <td>8</td>\n",
       "      <td>5080</td>\n",
       "      <td>2</td>\n",
       "      <td>2</td>\n",
       "      <td>2</td>\n",
       "      <td>515400</td>\n",
       "    </tr>\n",
       "    <tr>\n",
       "      <th>2</th>\n",
       "      <td>0</td>\n",
       "      <td>1</td>\n",
       "      <td>2</td>\n",
       "      <td>2</td>\n",
       "      <td>1</td>\n",
       "      <td>8</td>\n",
       "      <td>2599</td>\n",
       "      <td>2</td>\n",
       "      <td>2</td>\n",
       "      <td>2</td>\n",
       "      <td>64212</td>\n",
       "    </tr>\n",
       "    <tr>\n",
       "      <th>3</th>\n",
       "      <td>1</td>\n",
       "      <td>0</td>\n",
       "      <td>1</td>\n",
       "      <td>2</td>\n",
       "      <td>0</td>\n",
       "      <td>7</td>\n",
       "      <td>0</td>\n",
       "      <td>2</td>\n",
       "      <td>2</td>\n",
       "      <td>2</td>\n",
       "      <td>97920</td>\n",
       "    </tr>\n",
       "    <tr>\n",
       "      <th>4</th>\n",
       "      <td>0</td>\n",
       "      <td>1</td>\n",
       "      <td>1</td>\n",
       "      <td>3</td>\n",
       "      <td>1</td>\n",
       "      <td>6</td>\n",
       "      <td>3508</td>\n",
       "      <td>2</td>\n",
       "      <td>2</td>\n",
       "      <td>1</td>\n",
       "      <td>59736</td>\n",
       "    </tr>\n",
       "  </tbody>\n",
       "</table>\n",
       "</div>"
      ],
      "text/plain": [
       "   gender  area  qualification  income  marital_status  vintage  claim_amount  \\\n",
       "0       0     1              2       2               1        5          5790   \n",
       "1       0     0              1       2               0        8          5080   \n",
       "2       0     1              2       2               1        8          2599   \n",
       "3       1     0              1       2               0        7             0   \n",
       "4       0     1              1       3               1        6          3508   \n",
       "\n",
       "   num_policies  policy  type_of_policy    cltv  \n",
       "0             2       2               2   64308  \n",
       "1             2       2               2  515400  \n",
       "2             2       2               2   64212  \n",
       "3             2       2               2   97920  \n",
       "4             2       2               1   59736  "
      ]
     },
     "execution_count": 12,
     "metadata": {},
     "output_type": "execute_result"
    }
   ],
   "source": [
    "train_data.head()"
   ]
  },
  {
   "cell_type": "markdown",
   "id": "e5a0a84c",
   "metadata": {},
   "source": [
    "# Created valriable to store input data column names:"
   ]
  },
  {
   "cell_type": "code",
   "execution_count": 18,
   "id": "bae9dfe6",
   "metadata": {},
   "outputs": [],
   "source": [
    "x_column_names = {'gender','area','qualification','income','marital_status','vintage','claim_amount','num_policies','policy','type_of_policy'}"
   ]
  },
  {
   "cell_type": "markdown",
   "id": "3914f053",
   "metadata": {},
   "source": [
    "# Checking training data and it's type and missing values"
   ]
  },
  {
   "cell_type": "code",
   "execution_count": 13,
   "id": "875e5f1e",
   "metadata": {},
   "outputs": [
    {
     "name": "stdout",
     "output_type": "stream",
     "text": [
      "<class 'pandas.core.frame.DataFrame'>\n",
      "RangeIndex: 89392 entries, 0 to 89391\n",
      "Data columns (total 11 columns):\n",
      " #   Column          Non-Null Count  Dtype\n",
      "---  ------          --------------  -----\n",
      " 0   gender          89392 non-null  int64\n",
      " 1   area            89392 non-null  int64\n",
      " 2   qualification   89392 non-null  int64\n",
      " 3   income          89392 non-null  int64\n",
      " 4   marital_status  89392 non-null  int64\n",
      " 5   vintage         89392 non-null  int64\n",
      " 6   claim_amount    89392 non-null  int64\n",
      " 7   num_policies    89392 non-null  int64\n",
      " 8   policy          89392 non-null  int64\n",
      " 9   type_of_policy  89392 non-null  int64\n",
      " 10  cltv            89392 non-null  int64\n",
      "dtypes: int64(11)\n",
      "memory usage: 7.5 MB\n"
     ]
    }
   ],
   "source": [
    "train_data.info()"
   ]
  },
  {
   "cell_type": "code",
   "execution_count": 14,
   "id": "30d0689b",
   "metadata": {},
   "outputs": [
    {
     "data": {
      "text/plain": [
       "gender            0\n",
       "area              0\n",
       "qualification     0\n",
       "income            0\n",
       "marital_status    0\n",
       "vintage           0\n",
       "claim_amount      0\n",
       "num_policies      0\n",
       "policy            0\n",
       "type_of_policy    0\n",
       "cltv              0\n",
       "dtype: int64"
      ]
     },
     "execution_count": 14,
     "metadata": {},
     "output_type": "execute_result"
    }
   ],
   "source": [
    "train_data.isnull().sum()"
   ]
  },
  {
   "cell_type": "markdown",
   "id": "81a0cf3e",
   "metadata": {},
   "source": [
    "# Checkign relationship between Input and Target data:"
   ]
  },
  {
   "cell_type": "code",
   "execution_count": 65,
   "id": "45f817a0",
   "metadata": {},
   "outputs": [
    {
     "data": {
      "text/plain": [
       "<AxesSubplot:>"
      ]
     },
     "execution_count": 65,
     "metadata": {},
     "output_type": "execute_result"
    },
    {
     "data": {
      "image/png": "[encoded data removed]",
      "text/plain": [
       "<Figure size 1080x1080 with 2 Axes>"
      ]
     },
     "metadata": {
      "needs_background": "light"
     },
     "output_type": "display_data"
    }
   ],
   "source": [
    "fig = plt.figure(figsize=(15,15))\n",
    "sns.heatmap(train_data.corr(),cmap='Wistia',annot=True)"
   ]
  },
  {
   "cell_type": "code",
   "execution_count": 20,
   "id": "bf2e296f",
   "metadata": {},
   "outputs": [
    {
     "name": "stderr",
     "output_type": "stream",
     "text": [
      "C:\\Users\\mckni\\AppData\\Local\\Temp\\ipykernel_14796\\922067464.py:1: FutureWarning: Passing a set as an indexer is deprecated and will raise in a future version. Use a list instead.\n",
      "  train_x = train_data[x_column_names]\n"
     ]
    },
    {
     "data": {
      "text/html": [
       "<div>\n",
       "<style scoped>\n",
       "    .dataframe tbody tr th:only-of-type {\n",
       "        vertical-align: middle;\n",
       "    }\n",
       "\n",
       "    .dataframe tbody tr th {\n",
       "        vertical-align: top;\n",
       "    }\n",
       "\n",
       "    .dataframe thead th {\n",
       "        text-align: right;\n",
       "    }\n",
       "</style>\n",
       "<table border=\"1\" class=\"dataframe\">\n",
       "  <thead>\n",
       "    <tr style=\"text-align: right;\">\n",
       "      <th></th>\n",
       "      <th>claim_amount</th>\n",
       "      <th>marital_status</th>\n",
       "      <th>qualification</th>\n",
       "      <th>income</th>\n",
       "      <th>type_of_policy</th>\n",
       "      <th>area</th>\n",
       "      <th>gender</th>\n",
       "      <th>policy</th>\n",
       "      <th>vintage</th>\n",
       "      <th>num_policies</th>\n",
       "    </tr>\n",
       "  </thead>\n",
       "  <tbody>\n",
       "    <tr>\n",
       "      <th>0</th>\n",
       "      <td>5790</td>\n",
       "      <td>1</td>\n",
       "      <td>2</td>\n",
       "      <td>2</td>\n",
       "      <td>2</td>\n",
       "      <td>1</td>\n",
       "      <td>0</td>\n",
       "      <td>2</td>\n",
       "      <td>5</td>\n",
       "      <td>2</td>\n",
       "    </tr>\n",
       "    <tr>\n",
       "      <th>1</th>\n",
       "      <td>5080</td>\n",
       "      <td>0</td>\n",
       "      <td>1</td>\n",
       "      <td>2</td>\n",
       "      <td>2</td>\n",
       "      <td>0</td>\n",
       "      <td>0</td>\n",
       "      <td>2</td>\n",
       "      <td>8</td>\n",
       "      <td>2</td>\n",
       "    </tr>\n",
       "    <tr>\n",
       "      <th>2</th>\n",
       "      <td>2599</td>\n",
       "      <td>1</td>\n",
       "      <td>2</td>\n",
       "      <td>2</td>\n",
       "      <td>2</td>\n",
       "      <td>1</td>\n",
       "      <td>0</td>\n",
       "      <td>2</td>\n",
       "      <td>8</td>\n",
       "      <td>2</td>\n",
       "    </tr>\n",
       "    <tr>\n",
       "      <th>3</th>\n",
       "      <td>0</td>\n",
       "      <td>0</td>\n",
       "      <td>1</td>\n",
       "      <td>2</td>\n",
       "      <td>2</td>\n",
       "      <td>0</td>\n",
       "      <td>1</td>\n",
       "      <td>2</td>\n",
       "      <td>7</td>\n",
       "      <td>2</td>\n",
       "    </tr>\n",
       "    <tr>\n",
       "      <th>4</th>\n",
       "      <td>3508</td>\n",
       "      <td>1</td>\n",
       "      <td>1</td>\n",
       "      <td>3</td>\n",
       "      <td>1</td>\n",
       "      <td>1</td>\n",
       "      <td>0</td>\n",
       "      <td>2</td>\n",
       "      <td>6</td>\n",
       "      <td>2</td>\n",
       "    </tr>\n",
       "  </tbody>\n",
       "</table>\n",
       "</div>"
      ],
      "text/plain": [
       "   claim_amount  marital_status  qualification  income  type_of_policy  area  \\\n",
       "0          5790               1              2       2               2     1   \n",
       "1          5080               0              1       2               2     0   \n",
       "2          2599               1              2       2               2     1   \n",
       "3             0               0              1       2               2     0   \n",
       "4          3508               1              1       3               1     1   \n",
       "\n",
       "   gender  policy  vintage  num_policies  \n",
       "0       0       2        5             2  \n",
       "1       0       2        8             2  \n",
       "2       0       2        8             2  \n",
       "3       1       2        7             2  \n",
       "4       0       2        6             2  "
      ]
     },
     "execution_count": 20,
     "metadata": {},
     "output_type": "execute_result"
    }
   ],
   "source": [
    "train_x = train_data[x_column_names]\n",
    "train_x.head()"
   ]
  },
  {
   "cell_type": "code",
   "execution_count": 22,
   "id": "65853984",
   "metadata": {},
   "outputs": [
    {
     "data": {
      "text/plain": [
       "array([[5790,    1,    2,    2,    2,    1,    0,    2,    5,    2],\n",
       "       [5080,    0,    1,    2,    2,    0,    0,    2,    8,    2],\n",
       "       [2599,    1,    2,    2,    2,    1,    0,    2,    8,    2],\n",
       "       [   0,    0,    1,    2,    2,    0,    1,    2,    7,    2],\n",
       "       [3508,    1,    1,    3,    1,    1,    0,    2,    6,    2]],\n",
       "      dtype=int64)"
      ]
     },
     "execution_count": 22,
     "metadata": {},
     "output_type": "execute_result"
    }
   ],
   "source": [
    "train_x_np = np.array(train_x)\n",
    "train_x_np[:5]"
   ]
  },
  {
   "cell_type": "code",
   "execution_count": 21,
   "id": "2d7a6679",
   "metadata": {},
   "outputs": [
    {
     "data": {
      "text/plain": [
       "0     64308\n",
       "1    515400\n",
       "2     64212\n",
       "3     97920\n",
       "4     59736\n",
       "Name: cltv, dtype: int64"
      ]
     },
     "execution_count": 21,
     "metadata": {},
     "output_type": "execute_result"
    }
   ],
   "source": [
    "train_y = train_data['cltv']\n",
    "train_y.head()"
   ]
  },
  {
   "cell_type": "code",
   "execution_count": 23,
   "id": "8b15e73f",
   "metadata": {},
   "outputs": [
    {
     "data": {
      "text/plain": [
       "array([ 64308, 515400,  64212,  97920,  59736], dtype=int64)"
      ]
     },
     "execution_count": 23,
     "metadata": {},
     "output_type": "execute_result"
    }
   ],
   "source": [
    "train_y_np = np.array(train_y)\n",
    "train_y_np[:5]"
   ]
  },
  {
   "cell_type": "markdown",
   "id": "1bc898e9",
   "metadata": {},
   "source": [
    "# Spliting training data to use for both training & validating the model:"
   ]
  },
  {
   "cell_type": "code",
   "execution_count": 174,
   "id": "e09a1733",
   "metadata": {},
   "outputs": [],
   "source": [
    "X_train,X_test,Y_train,Y_test = train_test_split(train_data[list(['gender','area','qualification','income','marital_status','vintage','claim_amount','num_policies','policy','type_of_policy'])],train_data['cltv'],test_size = 0.3,random_state = 1)"
   ]
  },
  {
   "cell_type": "code",
   "execution_count": 175,
   "id": "a70e2855",
   "metadata": {},
   "outputs": [
    {
     "data": {
      "text/html": [
       "<div>\n",
       "<style scoped>\n",
       "    .dataframe tbody tr th:only-of-type {\n",
       "        vertical-align: middle;\n",
       "    }\n",
       "\n",
       "    .dataframe tbody tr th {\n",
       "        vertical-align: top;\n",
       "    }\n",
       "\n",
       "    .dataframe thead th {\n",
       "        text-align: right;\n",
       "    }\n",
       "</style>\n",
       "<table border=\"1\" class=\"dataframe\">\n",
       "  <thead>\n",
       "    <tr style=\"text-align: right;\">\n",
       "      <th></th>\n",
       "      <th>gender</th>\n",
       "      <th>area</th>\n",
       "      <th>qualification</th>\n",
       "      <th>income</th>\n",
       "      <th>marital_status</th>\n",
       "      <th>vintage</th>\n",
       "      <th>claim_amount</th>\n",
       "      <th>num_policies</th>\n",
       "      <th>policy</th>\n",
       "      <th>type_of_policy</th>\n",
       "    </tr>\n",
       "  </thead>\n",
       "  <tbody>\n",
       "    <tr>\n",
       "      <th>52720</th>\n",
       "      <td>0</td>\n",
       "      <td>1</td>\n",
       "      <td>1</td>\n",
       "      <td>2</td>\n",
       "      <td>1</td>\n",
       "      <td>1</td>\n",
       "      <td>5411</td>\n",
       "      <td>2</td>\n",
       "      <td>2</td>\n",
       "      <td>2</td>\n",
       "    </tr>\n",
       "    <tr>\n",
       "      <th>3377</th>\n",
       "      <td>0</td>\n",
       "      <td>0</td>\n",
       "      <td>2</td>\n",
       "      <td>2</td>\n",
       "      <td>1</td>\n",
       "      <td>8</td>\n",
       "      <td>2888</td>\n",
       "      <td>2</td>\n",
       "      <td>2</td>\n",
       "      <td>1</td>\n",
       "    </tr>\n",
       "    <tr>\n",
       "      <th>18542</th>\n",
       "      <td>1</td>\n",
       "      <td>1</td>\n",
       "      <td>1</td>\n",
       "      <td>2</td>\n",
       "      <td>1</td>\n",
       "      <td>6</td>\n",
       "      <td>3573</td>\n",
       "      <td>2</td>\n",
       "      <td>1</td>\n",
       "      <td>2</td>\n",
       "    </tr>\n",
       "    <tr>\n",
       "      <th>23573</th>\n",
       "      <td>0</td>\n",
       "      <td>1</td>\n",
       "      <td>2</td>\n",
       "      <td>1</td>\n",
       "      <td>1</td>\n",
       "      <td>6</td>\n",
       "      <td>0</td>\n",
       "      <td>1</td>\n",
       "      <td>1</td>\n",
       "      <td>2</td>\n",
       "    </tr>\n",
       "    <tr>\n",
       "      <th>22339</th>\n",
       "      <td>1</td>\n",
       "      <td>0</td>\n",
       "      <td>2</td>\n",
       "      <td>3</td>\n",
       "      <td>0</td>\n",
       "      <td>4</td>\n",
       "      <td>0</td>\n",
       "      <td>1</td>\n",
       "      <td>2</td>\n",
       "      <td>1</td>\n",
       "    </tr>\n",
       "  </tbody>\n",
       "</table>\n",
       "</div>"
      ],
      "text/plain": [
       "       gender  area  qualification  income  marital_status  vintage  \\\n",
       "52720       0     1              1       2               1        1   \n",
       "3377        0     0              2       2               1        8   \n",
       "18542       1     1              1       2               1        6   \n",
       "23573       0     1              2       1               1        6   \n",
       "22339       1     0              2       3               0        4   \n",
       "\n",
       "       claim_amount  num_policies  policy  type_of_policy  \n",
       "52720          5411             2       2               2  \n",
       "3377           2888             2       2               1  \n",
       "18542          3573             2       1               2  \n",
       "23573             0             1       1               2  \n",
       "22339             0             1       2               1  "
      ]
     },
     "execution_count": 175,
     "metadata": {},
     "output_type": "execute_result"
    }
   ],
   "source": [
    "X_train.head()"
   ]
  },
  {
   "cell_type": "code",
   "execution_count": 176,
   "id": "3074ce91",
   "metadata": {},
   "outputs": [
    {
     "data": {
      "text/plain": [
       "52720    337872\n",
       "3377     470328\n",
       "18542     64524\n",
       "23573     44904\n",
       "22339     33300\n",
       "Name: cltv, dtype: int64"
      ]
     },
     "execution_count": 176,
     "metadata": {},
     "output_type": "execute_result"
    }
   ],
   "source": [
    "Y_train.head()"
   ]
  },
  {
   "cell_type": "markdown",
   "id": "a1287bf3",
   "metadata": {},
   "source": [
    "# Scaling input data (claim_amount):"
   ]
  },
  {
   "cell_type": "code",
   "execution_count": 177,
   "id": "e925c27c",
   "metadata": {},
   "outputs": [
    {
     "data": {
      "text/plain": [
       "array([[0.16965573],\n",
       "       [0.09054995],\n",
       "       [0.11202734],\n",
       "       [0.        ],\n",
       "       [0.        ]])"
      ]
     },
     "execution_count": 177,
     "metadata": {},
     "output_type": "execute_result"
    }
   ],
   "source": [
    "X_mms = MinMaxScaler()\n",
    "claim_amount_train = X_mms.fit_transform(np.array(X_train['claim_amount']).reshape(-1,1))\n",
    "claim_amount_test = X_mms.transform(np.array(X_test['claim_amount']).reshape(-1,1))\n",
    "claim_amount_train[:5]"
   ]
  },
  {
   "cell_type": "markdown",
   "id": "b9c1e125",
   "metadata": {},
   "source": [
    "# Scaling target data (cltv):"
   ]
  },
  {
   "cell_type": "code",
   "execution_count": 182,
   "id": "88c22c12",
   "metadata": {},
   "outputs": [
    {
     "data": {
      "text/plain": [
       "array([[0.44769178],\n",
       "       [0.6371203 ],\n",
       "       [0.05677021],\n",
       "       [0.02871117],\n",
       "       [0.01211601]])"
      ]
     },
     "execution_count": 182,
     "metadata": {},
     "output_type": "execute_result"
    }
   ],
   "source": [
    "Y_mms = MinMaxScaler()\n",
    "cltv_train = Y_mms.fit_transform(np.array(Y_train).reshape(-1,1))\n",
    "cltv__test = Y_mms.transform(np.array(Y_test).reshape(-1,1))\n",
    "cltv_train[:5]"
   ]
  },
  {
   "cell_type": "markdown",
   "id": "0f8cc8d8",
   "metadata": {},
   "source": [
    "# Training variables are updated as per scaled data:"
   ]
  },
  {
   "cell_type": "code",
   "execution_count": 186,
   "id": "ca45cfc7",
   "metadata": {},
   "outputs": [
    {
     "data": {
      "text/plain": [
       "52720    0.169656\n",
       "3377     0.090550\n",
       "18542    0.112027\n",
       "23573    0.000000\n",
       "22339    0.000000\n",
       "Name: claim_amount, dtype: float64"
      ]
     },
     "execution_count": 186,
     "metadata": {},
     "output_type": "execute_result"
    }
   ],
   "source": [
    "X_train['claim_amount'] = claim_amount_train\n",
    "X_test['claim_amount'] = claim_amount_test\n",
    "X_train['claim_amount'].head()"
   ]
  },
  {
   "cell_type": "code",
   "execution_count": 189,
   "id": "b79ae8c0",
   "metadata": {},
   "outputs": [
    {
     "data": {
      "text/plain": [
       "array([[0.44769178],\n",
       "       [0.6371203 ],\n",
       "       [0.05677021],\n",
       "       [0.02871117],\n",
       "       [0.01211601]])"
      ]
     },
     "execution_count": 189,
     "metadata": {},
     "output_type": "execute_result"
    }
   ],
   "source": [
    "Y_train = cltv_train\n",
    "Y_test = cltv__test\n",
    "Y_train[:5]"
   ]
  },
  {
   "cell_type": "markdown",
   "id": "436d9caf",
   "metadata": {},
   "source": [
    "# Spliting training data to be used for both training & validating the model:"
   ]
  },
  {
   "cell_type": "code",
   "execution_count": 190,
   "id": "fc037365",
   "metadata": {},
   "outputs": [],
   "source": [
    "X_train_np,X_test_np,Y_train_np,Y_test_np = np.array(X_train),np.array(X_test),np.array(Y_train),np.array(Y_test)"
   ]
  },
  {
   "cell_type": "code",
   "execution_count": 32,
   "id": "052ddab1",
   "metadata": {},
   "outputs": [],
   "source": [
    "model_1 = LinearRegression()"
   ]
  },
  {
   "cell_type": "code",
   "execution_count": 33,
   "id": "c8b93d06",
   "metadata": {},
   "outputs": [
    {
     "data": {
      "text/plain": [
       "LinearRegression()"
      ]
     },
     "execution_count": 33,
     "metadata": {},
     "output_type": "execute_result"
    }
   ],
   "source": [
    "model_1.fit(X_train_np,Y_train_np)"
   ]
  },
  {
   "cell_type": "code",
   "execution_count": 34,
   "id": "f0b2985f",
   "metadata": {},
   "outputs": [],
   "source": [
    "y_pred = model_1.predict(X_test_np)"
   ]
  },
  {
   "cell_type": "code",
   "execution_count": 35,
   "id": "63aa3f85",
   "metadata": {},
   "outputs": [
    {
     "data": {
      "text/plain": [
       "82670.009297251"
      ]
     },
     "execution_count": 35,
     "metadata": {},
     "output_type": "execute_result"
    }
   ],
   "source": [
    "np.sqrt(mean_squared_error(Y_test_np,y_pred))"
   ]
  },
  {
   "cell_type": "code",
   "execution_count": 36,
   "id": "49131375",
   "metadata": {},
   "outputs": [
    {
     "data": {
      "text/plain": [
       "0.14965348963349334"
      ]
     },
     "execution_count": 36,
     "metadata": {},
     "output_type": "execute_result"
    }
   ],
   "source": [
    "model_1.score(X_test_np,Y_test_np)"
   ]
  },
  {
   "cell_type": "code",
   "execution_count": 95,
   "id": "f46e23b0",
   "metadata": {},
   "outputs": [
    {
     "data": {
      "text/plain": [
       "(62574, 10)"
      ]
     },
     "execution_count": 95,
     "metadata": {},
     "output_type": "execute_result"
    }
   ],
   "source": [
    "X_train_np.shape"
   ]
  },
  {
   "cell_type": "markdown",
   "id": "ae6011f3",
   "metadata": {},
   "source": [
    "# Looping through Regression models"
   ]
  },
  {
   "cell_type": "code",
   "execution_count": 42,
   "id": "9c63abfb",
   "metadata": {},
   "outputs": [],
   "source": [
    "regressors = [\n",
    "    RandomForestRegressor(),\n",
    "    GradientBoostingRegressor(),\n",
    "    DecisionTreeRegressor(),\n",
    "    LinearRegression(),\n",
    "    Lasso(),\n",
    "    Ridge(),\n",
    "]"
   ]
  },
  {
   "cell_type": "code",
   "execution_count": 196,
   "id": "58ce3422",
   "metadata": {},
   "outputs": [
    {
     "name": "stderr",
     "output_type": "stream",
     "text": [
      "C:\\Users\\mckni\\AppData\\Local\\Temp\\ipykernel_14796\\2582568822.py:4: DataConversionWarning: A column-vector y was passed when a 1d array was expected. Please change the shape of y to (n_samples,), for example using ravel().\n",
      "  model.fit(X_train_np, Y_train_np)\n"
     ]
    },
    {
     "name": "stdout",
     "output_type": "stream",
     "text": [
      "RandomForestRegressor()\n",
      "\tTraining time: 12.052s\n",
      "\tPrediction time: 0.654s\n",
      "\tExplained variance: 0.03179706128759774\n",
      "\tMean squared error: 0.015972916189655052\n",
      "\tR2 score: 0.02828993307108396\n",
      "\\score: 0.02828993307108396\n",
      "\n"
     ]
    },
    {
     "name": "stderr",
     "output_type": "stream",
     "text": [
      "D:\\Anaconda\\envs\\GPU\\lib\\site-packages\\sklearn\\ensemble\\_gb.py:494: DataConversionWarning: A column-vector y was passed when a 1d array was expected. Please change the shape of y to (n_samples, ), for example using ravel().\n",
      "  y = column_or_1d(y, warn=True)\n"
     ]
    },
    {
     "name": "stdout",
     "output_type": "stream",
     "text": [
      "GradientBoostingRegressor()\n",
      "\tTraining time: 3.082s\n",
      "\tPrediction time: 0.031s\n",
      "\tExplained variance: 0.16035911745448572\n",
      "\tMean squared error: 0.013802224283127773\n",
      "\tR2 score: 0.16034366406979583\n",
      "\\score: 0.16034366406979583\n",
      "\n",
      "DecisionTreeRegressor()\n",
      "\tTraining time: 0.188s\n",
      "\tPrediction time: 0.010s\n",
      "\tExplained variance: -0.8228154278814372\n",
      "\tMean squared error: 0.0300348323813184\n",
      "\tR2 score: -0.8271647228920918\n",
      "\\score: -0.8271647228920918\n",
      "\n",
      "LinearRegression()\n",
      "\tTraining time: 0.008s\n",
      "\tPrediction time: 0.000s\n",
      "\tExplained variance: 0.14966119546443413\n",
      "\tMean squared error: 0.013977948777640347\n",
      "\tR2 score: 0.1496534896334928\n",
      "\\score: 0.1496534896334928\n",
      "\n",
      "Lasso()\n",
      "\tTraining time: 0.006s\n",
      "\tPrediction time: 0.000s\n",
      "\tExplained variance: 0.0\n",
      "\tMean squared error: 0.016438746160450518\n",
      "\tR2 score: -4.876643278750592e-05\n",
      "\\score: -4.876643278750592e-05\n",
      "\n",
      "Ridge()\n",
      "\tTraining time: 0.004s\n",
      "\tPrediction time: 0.000s\n",
      "\tExplained variance: 0.1496650384596767\n",
      "\tMean squared error: 0.01397788553421765\n",
      "\tR2 score: 0.1496573370380475\n",
      "\\score: 0.1496573370380475\n",
      "\n"
     ]
    }
   ],
   "source": [
    "head = 10\n",
    "for model in regressors:\n",
    "    start = time()\n",
    "    model.fit(X_train_np, Y_train_np)\n",
    "    train_time = time() - start\n",
    "    start = time()\n",
    "    y_pred = model.predict(X_test_np)\n",
    "    predict_time = time()-start    \n",
    "    print(model)\n",
    "    print(\"\\tTraining time: %0.3fs\" % train_time)\n",
    "    print(\"\\tPrediction time: %0.3fs\" % predict_time)\n",
    "    print(\"\\tExplained variance:\", explained_variance_score(Y_test_np, y_pred))\n",
    "    print(\"\\tMean squared error:\", mean_squared_error(Y_test_np, y_pred))\n",
    "    print(\"\\tR2 score:\", r2_score(Y_test_np, y_pred))\n",
    "    print(\"\\score:\",model.score(X_test_np,Y_test_np))\n",
    "    print()"
   ]
  },
  {
   "cell_type": "markdown",
   "id": "7af551f5",
   "metadata": {},
   "source": [
    "# DNN - Model Test"
   ]
  },
  {
   "cell_type": "code",
   "execution_count": 152,
   "id": "a7c5ece6",
   "metadata": {},
   "outputs": [],
   "source": [
    "from keras.models import Sequential\n",
    "from keras.layers import Activation,Add,Dense,Conv1D,MaxPooling1D,AveragePooling1D,Flatten,GlobalMaxPooling1D,Dropout,BatchNormalization,Input,Activation,GlobalAveragePooling1D\n",
    "from keras import callbacks\n",
    "from tensorflow.keras.utils import to_categorical"
   ]
  },
  {
   "cell_type": "code",
   "execution_count": 153,
   "id": "08dbb2ae",
   "metadata": {},
   "outputs": [],
   "source": [
    "import tensorflow as tf"
   ]
  },
  {
   "cell_type": "code",
   "execution_count": 208,
   "id": "446bac1b",
   "metadata": {},
   "outputs": [],
   "source": [
    "DL_model = Sequential()\n",
    "DL_model.add(Dense(256, input_shape=(10,), activation='relu'))\n",
    "DL_model.add(Dropout(0.2))\n",
    "DL_model.add(Dense(128, activation='relu'))\n",
    "DL_model.add(Dropout(0.2))\n",
    "DL_model.add(Dense(64, activation='relu'))\n",
    "DL_model.add(Dropout(0.2))\n",
    "DL_model.add(Dense(1, activation='linear'))"
   ]
  },
  {
   "cell_type": "code",
   "execution_count": 209,
   "id": "3a99d584",
   "metadata": {},
   "outputs": [],
   "source": [
    "DL_model.compile(loss='mse', optimizer='adam', metrics='acc')"
   ]
  },
  {
   "cell_type": "code",
   "execution_count": 210,
   "id": "3002c269",
   "metadata": {},
   "outputs": [
    {
     "name": "stdout",
     "output_type": "stream",
     "text": [
      "Model: \"sequential_12\"\n",
      "_________________________________________________________________\n",
      " Layer (type)                Output Shape              Param #   \n",
      "=================================================================\n",
      " dense_57 (Dense)            (None, 256)               2816      \n",
      "                                                                 \n",
      " dropout_16 (Dropout)        (None, 256)               0         \n",
      "                                                                 \n",
      " dense_58 (Dense)            (None, 128)               32896     \n",
      "                                                                 \n",
      " dropout_17 (Dropout)        (None, 128)               0         \n",
      "                                                                 \n",
      " dense_59 (Dense)            (None, 64)                8256      \n",
      "                                                                 \n",
      " dropout_18 (Dropout)        (None, 64)                0         \n",
      "                                                                 \n",
      " dense_60 (Dense)            (None, 1)                 65        \n",
      "                                                                 \n",
      "=================================================================\n",
      "Total params: 44,033\n",
      "Trainable params: 44,033\n",
      "Non-trainable params: 0\n",
      "_________________________________________________________________\n"
     ]
    }
   ],
   "source": [
    "DL_model.summary()"
   ]
  },
  {
   "cell_type": "code",
   "execution_count": 211,
   "id": "057f8888",
   "metadata": {},
   "outputs": [
    {
     "name": "stdout",
     "output_type": "stream",
     "text": [
      "Epoch 1/10\n",
      "63/63 [==============================] - 1s 6ms/step - loss: 0.0367 - acc: 1.5981e-05 - val_loss: 0.0167 - val_acc: 0.0000e+00\n",
      "Epoch 2/10\n",
      "63/63 [==============================] - 0s 4ms/step - loss: 0.0172 - acc: 1.5981e-05 - val_loss: 0.0152 - val_acc: 0.0000e+00\n",
      "Epoch 3/10\n",
      "63/63 [==============================] - 0s 3ms/step - loss: 0.0161 - acc: 1.5981e-05 - val_loss: 0.0150 - val_acc: 0.0000e+00\n",
      "Epoch 4/10\n",
      "63/63 [==============================] - 0s 3ms/step - loss: 0.0156 - acc: 1.5981e-05 - val_loss: 0.0149 - val_acc: 0.0000e+00\n",
      "Epoch 5/10\n",
      "63/63 [==============================] - 0s 3ms/step - loss: 0.0154 - acc: 1.5981e-05 - val_loss: 0.0147 - val_acc: 0.0000e+00\n",
      "Epoch 6/10\n",
      "63/63 [==============================] - 0s 3ms/step - loss: 0.0152 - acc: 1.5981e-05 - val_loss: 0.0147 - val_acc: 0.0000e+00\n",
      "Epoch 7/10\n",
      "63/63 [==============================] - 0s 3ms/step - loss: 0.0151 - acc: 1.5981e-05 - val_loss: 0.0150 - val_acc: 0.0000e+00\n",
      "Epoch 8/10\n",
      "63/63 [==============================] - 0s 3ms/step - loss: 0.0150 - acc: 1.5981e-05 - val_loss: 0.0146 - val_acc: 0.0000e+00\n",
      "Epoch 9/10\n",
      "63/63 [==============================] - 0s 3ms/step - loss: 0.0149 - acc: 1.5981e-05 - val_loss: 0.0146 - val_acc: 0.0000e+00\n",
      "Epoch 10/10\n",
      "63/63 [==============================] - 0s 3ms/step - loss: 0.0148 - acc: 1.5981e-05 - val_loss: 0.0146 - val_acc: 0.0000e+00\n"
     ]
    },
    {
     "data": {
      "text/plain": [
       "<keras.callbacks.History at 0x16be2420df0>"
      ]
     },
     "execution_count": 211,
     "metadata": {},
     "output_type": "execute_result"
    }
   ],
   "source": [
    "DL_model.fit(X_train_np,Y_train_np,validation_data = (X_test_np,Y_test_np),batch_size = 1000, epochs = 10)"
   ]
  },
  {
   "cell_type": "code",
   "execution_count": 199,
   "id": "a47e1de5",
   "metadata": {},
   "outputs": [],
   "source": [
    "model_decision_tree  = DecisionTreeRegressor()"
   ]
  },
  {
   "cell_type": "code",
   "execution_count": 201,
   "id": "06d4508f",
   "metadata": {},
   "outputs": [
    {
     "data": {
      "text/plain": [
       "DecisionTreeRegressor()"
      ]
     },
     "execution_count": 201,
     "metadata": {},
     "output_type": "execute_result"
    }
   ],
   "source": [
    "model_decision_tree.fit(X_train_np,Y_train_np)"
   ]
  },
  {
   "cell_type": "code",
   "execution_count": 202,
   "id": "629da6c4",
   "metadata": {},
   "outputs": [],
   "source": [
    "y_pred_2 = model_decision_tree.predict(X_test_np)"
   ]
  },
  {
   "cell_type": "code",
   "execution_count": 203,
   "id": "caa886c2",
   "metadata": {},
   "outputs": [
    {
     "data": {
      "text/plain": [
       "0.17314822998618162"
      ]
     },
     "execution_count": 203,
     "metadata": {},
     "output_type": "execute_result"
    }
   ],
   "source": [
    "np.sqrt(mean_squared_error(Y_test_np,y_pred_2))"
   ]
  },
  {
   "cell_type": "code",
   "execution_count": 204,
   "id": "59217039",
   "metadata": {},
   "outputs": [
    {
     "data": {
      "text/plain": [
       "-0.82384783410248"
      ]
     },
     "execution_count": 204,
     "metadata": {},
     "output_type": "execute_result"
    }
   ],
   "source": [
    "model_decision_tree.score(X_test_np,Y_test_np)"
   ]
  },
  {
   "cell_type": "code",
   "execution_count": null,
   "id": "4a24f8b2",
   "metadata": {},
   "outputs": [],
   "source": []
  }
 ],
 "metadata": {
  "kernelspec": {
   "display_name": "Python 3 (ipykernel)",
   "language": "python",
   "name": "python3"
  },
  "language_info": {
   "codemirror_mode": {
    "name": "ipython",
    "version": 3
   },
   "file_extension": ".py",
   "mimetype": "text/x-python",
   "name": "python",
   "nbconvert_exporter": "python",
   "pygments_lexer": "ipython3",
   "version": "3.10.4"
  }
 },
 "nbformat": 4,
 "nbformat_minor": 5
}
