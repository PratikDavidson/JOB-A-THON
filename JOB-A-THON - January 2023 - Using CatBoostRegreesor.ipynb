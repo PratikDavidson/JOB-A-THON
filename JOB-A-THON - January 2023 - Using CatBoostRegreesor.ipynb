{
 "cells": [
  {
   "cell_type": "markdown",
   "id": "29a7b761",
   "metadata": {},
   "source": [
    "# Imported Required Libraries:"
   ]
  },
  {
   "cell_type": "code",
   "execution_count": 22,
   "id": "a19687df",
   "metadata": {},
   "outputs": [],
   "source": [
    "import numpy as np\n",
    "import pandas as pd\n",
    "import matplotlib.pyplot as plt\n",
    "import seaborn as sns\n",
    "from catboost import CatBoostRegressor"
   ]
  },
  {
   "cell_type": "code",
   "execution_count": 23,
   "id": "fd9ab7fb",
   "metadata": {},
   "outputs": [],
   "source": [
    "from sklearn.model_selection import train_test_split"
   ]
  },
  {
   "cell_type": "markdown",
   "id": "ba92a1d7",
   "metadata": {},
   "source": [
    "# Loaded Training Data:"
   ]
  },
  {
   "cell_type": "code",
   "execution_count": 7,
   "id": "a347b1fd",
   "metadata": {},
   "outputs": [],
   "source": [
    "train_data = pd.read_csv('D:\\\\ML\\\\DL Repo\\\\JOB-A-THON - January 2023\\\\train.csv')"
   ]
  },
  {
   "cell_type": "markdown",
   "id": "f63b1cfc",
   "metadata": {},
   "source": [
    "# Checking Training Data (Column names and it's values)"
   ]
  },
  {
   "cell_type": "code",
   "execution_count": 8,
   "id": "9af21bf1",
   "metadata": {},
   "outputs": [
    {
     "data": {
      "text/html": [
       "<div>\n",
       "<style scoped>\n",
       "    .dataframe tbody tr th:only-of-type {\n",
       "        vertical-align: middle;\n",
       "    }\n",
       "\n",
       "    .dataframe tbody tr th {\n",
       "        vertical-align: top;\n",
       "    }\n",
       "\n",
       "    .dataframe thead th {\n",
       "        text-align: right;\n",
       "    }\n",
       "</style>\n",
       "<table border=\"1\" class=\"dataframe\">\n",
       "  <thead>\n",
       "    <tr style=\"text-align: right;\">\n",
       "      <th></th>\n",
       "      <th>id</th>\n",
       "      <th>gender</th>\n",
       "      <th>area</th>\n",
       "      <th>qualification</th>\n",
       "      <th>income</th>\n",
       "      <th>marital_status</th>\n",
       "      <th>vintage</th>\n",
       "      <th>claim_amount</th>\n",
       "      <th>num_policies</th>\n",
       "      <th>policy</th>\n",
       "      <th>type_of_policy</th>\n",
       "      <th>cltv</th>\n",
       "    </tr>\n",
       "  </thead>\n",
       "  <tbody>\n",
       "    <tr>\n",
       "      <th>0</th>\n",
       "      <td>1</td>\n",
       "      <td>Male</td>\n",
       "      <td>Urban</td>\n",
       "      <td>Bachelor</td>\n",
       "      <td>5L-10L</td>\n",
       "      <td>1</td>\n",
       "      <td>5</td>\n",
       "      <td>5790</td>\n",
       "      <td>More than 1</td>\n",
       "      <td>A</td>\n",
       "      <td>Platinum</td>\n",
       "      <td>64308</td>\n",
       "    </tr>\n",
       "    <tr>\n",
       "      <th>1</th>\n",
       "      <td>2</td>\n",
       "      <td>Male</td>\n",
       "      <td>Rural</td>\n",
       "      <td>High School</td>\n",
       "      <td>5L-10L</td>\n",
       "      <td>0</td>\n",
       "      <td>8</td>\n",
       "      <td>5080</td>\n",
       "      <td>More than 1</td>\n",
       "      <td>A</td>\n",
       "      <td>Platinum</td>\n",
       "      <td>515400</td>\n",
       "    </tr>\n",
       "    <tr>\n",
       "      <th>2</th>\n",
       "      <td>3</td>\n",
       "      <td>Male</td>\n",
       "      <td>Urban</td>\n",
       "      <td>Bachelor</td>\n",
       "      <td>5L-10L</td>\n",
       "      <td>1</td>\n",
       "      <td>8</td>\n",
       "      <td>2599</td>\n",
       "      <td>More than 1</td>\n",
       "      <td>A</td>\n",
       "      <td>Platinum</td>\n",
       "      <td>64212</td>\n",
       "    </tr>\n",
       "    <tr>\n",
       "      <th>3</th>\n",
       "      <td>4</td>\n",
       "      <td>Female</td>\n",
       "      <td>Rural</td>\n",
       "      <td>High School</td>\n",
       "      <td>5L-10L</td>\n",
       "      <td>0</td>\n",
       "      <td>7</td>\n",
       "      <td>0</td>\n",
       "      <td>More than 1</td>\n",
       "      <td>A</td>\n",
       "      <td>Platinum</td>\n",
       "      <td>97920</td>\n",
       "    </tr>\n",
       "    <tr>\n",
       "      <th>4</th>\n",
       "      <td>5</td>\n",
       "      <td>Male</td>\n",
       "      <td>Urban</td>\n",
       "      <td>High School</td>\n",
       "      <td>More than 10L</td>\n",
       "      <td>1</td>\n",
       "      <td>6</td>\n",
       "      <td>3508</td>\n",
       "      <td>More than 1</td>\n",
       "      <td>A</td>\n",
       "      <td>Gold</td>\n",
       "      <td>59736</td>\n",
       "    </tr>\n",
       "  </tbody>\n",
       "</table>\n",
       "</div>"
      ],
      "text/plain": [
       "   id  gender   area qualification         income  marital_status  vintage  \\\n",
       "0   1    Male  Urban      Bachelor         5L-10L               1        5   \n",
       "1   2    Male  Rural   High School         5L-10L               0        8   \n",
       "2   3    Male  Urban      Bachelor         5L-10L               1        8   \n",
       "3   4  Female  Rural   High School         5L-10L               0        7   \n",
       "4   5    Male  Urban   High School  More than 10L               1        6   \n",
       "\n",
       "   claim_amount num_policies policy type_of_policy    cltv  \n",
       "0          5790  More than 1      A       Platinum   64308  \n",
       "1          5080  More than 1      A       Platinum  515400  \n",
       "2          2599  More than 1      A       Platinum   64212  \n",
       "3             0  More than 1      A       Platinum   97920  \n",
       "4          3508  More than 1      A           Gold   59736  "
      ]
     },
     "execution_count": 8,
     "metadata": {},
     "output_type": "execute_result"
    }
   ],
   "source": [
    "train_data.head()"
   ]
  },
  {
   "cell_type": "markdown",
   "id": "369e8948",
   "metadata": {},
   "source": [
    "# Created valriables to store input data column names and categorical data column names:"
   ]
  },
  {
   "cell_type": "code",
   "execution_count": 9,
   "id": "ea542959",
   "metadata": {},
   "outputs": [],
   "source": [
    "train_columns = list(['gender','area','qualification','income','marital_status','vintage','claim_amount','num_policies','policy','type_of_policy'])\n",
    "categorical_columns = list(['gender','area','qualification','income','num_policies','policy','type_of_policy']) #Required during training to distinguish Numerical and Non-Numerical data"
   ]
  },
  {
   "cell_type": "markdown",
   "id": "1eaebadd",
   "metadata": {},
   "source": [
    "# Spliting training data to be used for both training & validating the model:"
   ]
  },
  {
   "cell_type": "code",
   "execution_count": 10,
   "id": "9459f7db",
   "metadata": {},
   "outputs": [],
   "source": [
    "X_train,X_test,Y_train,Y_test = train_test_split(train_data[train_columns],train_data['cltv'],test_size = 0.25,random_state = 1)"
   ]
  },
  {
   "cell_type": "markdown",
   "id": "8e4a602c",
   "metadata": {},
   "source": [
    "# Model Creation:"
   ]
  },
  {
   "cell_type": "code",
   "execution_count": 13,
   "id": "c9a48746",
   "metadata": {},
   "outputs": [],
   "source": [
    "model = CatBoostRegressor(iterations=100,task_type='GPU',eval_metric='R2')"
   ]
  },
  {
   "cell_type": "markdown",
   "id": "a067eccb",
   "metadata": {},
   "source": [
    "# Model trainging:"
   ]
  },
  {
   "cell_type": "code",
   "execution_count": 14,
   "id": "62305799",
   "metadata": {},
   "outputs": [
    {
     "name": "stdout",
     "output_type": "stream",
     "text": [
      "Learning rate set to 0.188521\n",
      "0:\tlearn: 0.0528605\ttest: 0.0539148\tbest: 0.0539148 (0)\ttotal: 8.13ms\tremaining: 805ms\n",
      "1:\ttotal: 16.4ms\tremaining: 802ms\n",
      "2:\ttotal: 24.7ms\tremaining: 800ms\n",
      "3:\ttotal: 33.3ms\tremaining: 798ms\n",
      "4:\ttotal: 41.7ms\tremaining: 792ms\n",
      "5:\tlearn: 0.1433721\ttest: 0.1447668\tbest: 0.1447668 (5)\ttotal: 51.4ms\tremaining: 806ms\n",
      "6:\ttotal: 59.7ms\tremaining: 793ms\n",
      "7:\ttotal: 68ms\tremaining: 782ms\n",
      "8:\ttotal: 76.5ms\tremaining: 773ms\n"
     ]
    },
    {
     "name": "stderr",
     "output_type": "stream",
     "text": [
      "Default metric period is 5 because R2 is/are not implemented for GPU\n",
      "Metric R2 is not implemented on GPU. Will use CPU for metric computation, this could significantly affect learning time\n"
     ]
    },
    {
     "name": "stdout",
     "output_type": "stream",
     "text": [
      "9:\ttotal: 85.2ms\tremaining: 767ms\n",
      "10:\tlearn: 0.1557610\ttest: 0.1554923\tbest: 0.1554923 (10)\ttotal: 95.3ms\tremaining: 771ms\n",
      "11:\ttotal: 99.9ms\tremaining: 733ms\n",
      "12:\ttotal: 105ms\tremaining: 701ms\n",
      "13:\ttotal: 110ms\tremaining: 673ms\n",
      "14:\ttotal: 115ms\tremaining: 649ms\n",
      "15:\tlearn: 0.1616571\ttest: 0.1600503\tbest: 0.1600503 (15)\ttotal: 121ms\tremaining: 633ms\n",
      "16:\ttotal: 125ms\tremaining: 612ms\n",
      "17:\ttotal: 130ms\tremaining: 592ms\n",
      "18:\ttotal: 135ms\tremaining: 576ms\n",
      "19:\ttotal: 140ms\tremaining: 561ms\n",
      "20:\tlearn: 0.1636033\ttest: 0.1606538\tbest: 0.1606538 (20)\ttotal: 146ms\tremaining: 550ms\n",
      "21:\ttotal: 151ms\tremaining: 536ms\n",
      "22:\ttotal: 156ms\tremaining: 523ms\n",
      "23:\ttotal: 161ms\tremaining: 510ms\n",
      "24:\ttotal: 166ms\tremaining: 497ms\n",
      "25:\tlearn: 0.1646584\ttest: 0.1606411\tbest: 0.1606538 (20)\ttotal: 172ms\tremaining: 489ms\n",
      "26:\ttotal: 180ms\tremaining: 488ms\n",
      "27:\ttotal: 189ms\tremaining: 486ms\n",
      "28:\ttotal: 198ms\tremaining: 484ms\n",
      "29:\ttotal: 207ms\tremaining: 482ms\n",
      "30:\tlearn: 0.1660846\ttest: 0.1605799\tbest: 0.1606538 (20)\ttotal: 216ms\tremaining: 481ms\n",
      "31:\ttotal: 221ms\tremaining: 469ms\n",
      "32:\ttotal: 225ms\tremaining: 458ms\n",
      "33:\ttotal: 230ms\tremaining: 447ms\n",
      "34:\ttotal: 235ms\tremaining: 437ms\n",
      "35:\tlearn: 0.1666763\ttest: 0.1603944\tbest: 0.1606538 (20)\ttotal: 241ms\tremaining: 429ms\n",
      "36:\ttotal: 250ms\tremaining: 426ms\n",
      "37:\ttotal: 259ms\tremaining: 422ms\n",
      "38:\ttotal: 268ms\tremaining: 419ms\n",
      "39:\ttotal: 276ms\tremaining: 415ms\n",
      "40:\tlearn: 0.1674847\ttest: 0.1604757\tbest: 0.1606538 (20)\ttotal: 287ms\tremaining: 412ms\n",
      "41:\ttotal: 291ms\tremaining: 402ms\n",
      "42:\ttotal: 296ms\tremaining: 393ms\n",
      "43:\ttotal: 301ms\tremaining: 384ms\n",
      "44:\ttotal: 306ms\tremaining: 374ms\n",
      "45:\tlearn: 0.1684464\ttest: 0.1601910\tbest: 0.1606538 (20)\ttotal: 312ms\tremaining: 366ms\n",
      "46:\ttotal: 318ms\tremaining: 358ms\n",
      "47:\ttotal: 324ms\tremaining: 351ms\n",
      "48:\ttotal: 330ms\tremaining: 343ms\n",
      "49:\ttotal: 336ms\tremaining: 336ms\n",
      "50:\tlearn: 0.1690810\ttest: 0.1601074\tbest: 0.1606538 (20)\ttotal: 343ms\tremaining: 329ms\n",
      "51:\ttotal: 348ms\tremaining: 321ms\n",
      "52:\ttotal: 353ms\tremaining: 313ms\n",
      "53:\ttotal: 358ms\tremaining: 305ms\n",
      "54:\ttotal: 363ms\tremaining: 297ms\n",
      "55:\tlearn: 0.1697898\ttest: 0.1601134\tbest: 0.1606538 (20)\ttotal: 369ms\tremaining: 290ms\n",
      "56:\ttotal: 374ms\tremaining: 282ms\n",
      "57:\ttotal: 379ms\tremaining: 274ms\n",
      "58:\ttotal: 384ms\tremaining: 267ms\n",
      "59:\ttotal: 389ms\tremaining: 259ms\n",
      "60:\tlearn: 0.1704969\ttest: 0.1599226\tbest: 0.1606538 (20)\ttotal: 395ms\tremaining: 253ms\n",
      "61:\ttotal: 400ms\tremaining: 245ms\n",
      "62:\ttotal: 405ms\tremaining: 238ms\n",
      "63:\ttotal: 410ms\tremaining: 231ms\n",
      "64:\ttotal: 415ms\tremaining: 223ms\n",
      "65:\tlearn: 0.1710791\ttest: 0.1597563\tbest: 0.1606538 (20)\ttotal: 421ms\tremaining: 217ms\n",
      "66:\ttotal: 425ms\tremaining: 210ms\n",
      "67:\ttotal: 430ms\tremaining: 203ms\n",
      "68:\ttotal: 435ms\tremaining: 196ms\n",
      "69:\ttotal: 440ms\tremaining: 189ms\n",
      "70:\tlearn: 0.1715943\ttest: 0.1596982\tbest: 0.1606538 (20)\ttotal: 446ms\tremaining: 182ms\n",
      "71:\ttotal: 451ms\tremaining: 175ms\n",
      "72:\ttotal: 456ms\tremaining: 169ms\n",
      "73:\ttotal: 461ms\tremaining: 162ms\n",
      "74:\ttotal: 466ms\tremaining: 155ms\n",
      "75:\tlearn: 0.1721086\ttest: 0.1595824\tbest: 0.1606538 (20)\ttotal: 472ms\tremaining: 149ms\n",
      "76:\ttotal: 477ms\tremaining: 143ms\n",
      "77:\ttotal: 482ms\tremaining: 136ms\n",
      "78:\ttotal: 487ms\tremaining: 130ms\n",
      "79:\ttotal: 492ms\tremaining: 123ms\n",
      "80:\tlearn: 0.1725544\ttest: 0.1594926\tbest: 0.1606538 (20)\ttotal: 499ms\tremaining: 117ms\n",
      "81:\ttotal: 503ms\tremaining: 111ms\n",
      "82:\ttotal: 508ms\tremaining: 104ms\n",
      "83:\ttotal: 513ms\tremaining: 97.8ms\n",
      "84:\ttotal: 519ms\tremaining: 91.5ms\n",
      "85:\tlearn: 0.1735334\ttest: 0.1593674\tbest: 0.1606538 (20)\ttotal: 524ms\tremaining: 85.4ms\n",
      "86:\ttotal: 530ms\tremaining: 79.2ms\n",
      "87:\ttotal: 536ms\tremaining: 73.1ms\n",
      "88:\ttotal: 542ms\tremaining: 66.9ms\n",
      "89:\ttotal: 547ms\tremaining: 60.8ms\n",
      "90:\tlearn: 0.1741398\ttest: 0.1593745\tbest: 0.1606538 (20)\ttotal: 554ms\tremaining: 54.8ms\n",
      "91:\ttotal: 559ms\tremaining: 48.6ms\n",
      "92:\ttotal: 564ms\tremaining: 42.5ms\n",
      "93:\ttotal: 569ms\tremaining: 36.3ms\n",
      "94:\ttotal: 574ms\tremaining: 30.2ms\n",
      "95:\tlearn: 0.1744843\ttest: 0.1592454\tbest: 0.1606538 (20)\ttotal: 580ms\tremaining: 24.2ms\n",
      "96:\ttotal: 589ms\tremaining: 18.2ms\n",
      "97:\ttotal: 597ms\tremaining: 12.2ms\n",
      "98:\ttotal: 606ms\tremaining: 6.12ms\n",
      "99:\tlearn: 0.1752242\ttest: 0.1592129\tbest: 0.1606538 (20)\ttotal: 616ms\tremaining: 0us\n",
      "bestTest = 0.1606538038\n",
      "bestIteration = 20\n",
      "Shrink model to first 21 iterations.\n"
     ]
    },
    {
     "data": {
      "text/plain": [
       "<catboost.core.CatBoostRegressor at 0x1d57840ff70>"
      ]
     },
     "execution_count": 14,
     "metadata": {},
     "output_type": "execute_result"
    }
   ],
   "source": [
    "model.fit(X_train,Y_train,eval_set=(X_test,Y_test),cat_features=categorical_columns)"
   ]
  },
  {
   "cell_type": "markdown",
   "id": "e7470b66",
   "metadata": {},
   "source": [
    "# Loaded Test Data:"
   ]
  },
  {
   "cell_type": "code",
   "execution_count": 15,
   "id": "72c58bec",
   "metadata": {},
   "outputs": [],
   "source": [
    "test_data = pd.read_csv('D:\\\\ML\\\\DL Repo\\\\JOB-A-THON - January 2023\\\\test.csv')"
   ]
  },
  {
   "cell_type": "markdown",
   "id": "d20bf174",
   "metadata": {},
   "source": [
    "# Prediction on test data:"
   ]
  },
  {
   "cell_type": "code",
   "execution_count": 16,
   "id": "61fedfb4",
   "metadata": {},
   "outputs": [
    {
     "name": "stderr",
     "output_type": "stream",
     "text": [
      "D:\\Anaconda\\envs\\GPU\\lib\\site-packages\\catboost\\core.py:1411: FutureWarning: iteritems is deprecated and will be removed in a future version. Use .items instead.\n",
      "  self._init_pool(data, label, cat_features, text_features, embedding_features, embedding_features_data, pairs, weight,\n"
     ]
    }
   ],
   "source": [
    "y_pred = model.predict(test_data[train_columns]) "
   ]
  },
  {
   "cell_type": "markdown",
   "id": "3ce38e15",
   "metadata": {},
   "source": [
    "# Creation/export Submission data"
   ]
  },
  {
   "cell_type": "code",
   "execution_count": 17,
   "id": "bba9d231",
   "metadata": {},
   "outputs": [
    {
     "data": {
      "text/plain": [
       "(59595,)"
      ]
     },
     "execution_count": 17,
     "metadata": {},
     "output_type": "execute_result"
    }
   ],
   "source": [
    "np.array(test_data['id']).shape"
   ]
  },
  {
   "cell_type": "code",
   "execution_count": 18,
   "id": "e0563581",
   "metadata": {},
   "outputs": [],
   "source": [
    "test_result = pd.DataFrame([test_data['id'].squeeze(),y_pred]).T"
   ]
  },
  {
   "cell_type": "code",
   "execution_count": 19,
   "id": "2fa29f85",
   "metadata": {},
   "outputs": [
    {
     "data": {
      "text/html": [
       "<div>\n",
       "<style scoped>\n",
       "    .dataframe tbody tr th:only-of-type {\n",
       "        vertical-align: middle;\n",
       "    }\n",
       "\n",
       "    .dataframe tbody tr th {\n",
       "        vertical-align: top;\n",
       "    }\n",
       "\n",
       "    .dataframe thead th {\n",
       "        text-align: right;\n",
       "    }\n",
       "</style>\n",
       "<table border=\"1\" class=\"dataframe\">\n",
       "  <thead>\n",
       "    <tr style=\"text-align: right;\">\n",
       "      <th></th>\n",
       "      <th>id</th>\n",
       "      <th>Unnamed 0</th>\n",
       "    </tr>\n",
       "  </thead>\n",
       "  <tbody>\n",
       "    <tr>\n",
       "      <th>0</th>\n",
       "      <td>89393.0</td>\n",
       "      <td>97108.752827</td>\n",
       "    </tr>\n",
       "    <tr>\n",
       "      <th>1</th>\n",
       "      <td>89394.0</td>\n",
       "      <td>128883.512428</td>\n",
       "    </tr>\n",
       "    <tr>\n",
       "      <th>2</th>\n",
       "      <td>89395.0</td>\n",
       "      <td>91402.320843</td>\n",
       "    </tr>\n",
       "    <tr>\n",
       "      <th>3</th>\n",
       "      <td>89396.0</td>\n",
       "      <td>89359.994656</td>\n",
       "    </tr>\n",
       "    <tr>\n",
       "      <th>4</th>\n",
       "      <td>89397.0</td>\n",
       "      <td>136291.065376</td>\n",
       "    </tr>\n",
       "  </tbody>\n",
       "</table>\n",
       "</div>"
      ],
      "text/plain": [
       "        id      Unnamed 0\n",
       "0  89393.0   97108.752827\n",
       "1  89394.0  128883.512428\n",
       "2  89395.0   91402.320843\n",
       "3  89396.0   89359.994656\n",
       "4  89397.0  136291.065376"
      ]
     },
     "execution_count": 19,
     "metadata": {},
     "output_type": "execute_result"
    }
   ],
   "source": [
    "test_result.head()"
   ]
  },
  {
   "cell_type": "code",
   "execution_count": 20,
   "id": "ebcafd21",
   "metadata": {},
   "outputs": [
    {
     "data": {
      "text/html": [
       "<div>\n",
       "<style scoped>\n",
       "    .dataframe tbody tr th:only-of-type {\n",
       "        vertical-align: middle;\n",
       "    }\n",
       "\n",
       "    .dataframe tbody tr th {\n",
       "        vertical-align: top;\n",
       "    }\n",
       "\n",
       "    .dataframe thead th {\n",
       "        text-align: right;\n",
       "    }\n",
       "</style>\n",
       "<table border=\"1\" class=\"dataframe\">\n",
       "  <thead>\n",
       "    <tr style=\"text-align: right;\">\n",
       "      <th></th>\n",
       "      <th>id</th>\n",
       "      <th>cltv</th>\n",
       "    </tr>\n",
       "  </thead>\n",
       "  <tbody>\n",
       "    <tr>\n",
       "      <th>0</th>\n",
       "      <td>89393.0</td>\n",
       "      <td>97108.752827</td>\n",
       "    </tr>\n",
       "    <tr>\n",
       "      <th>1</th>\n",
       "      <td>89394.0</td>\n",
       "      <td>128883.512428</td>\n",
       "    </tr>\n",
       "    <tr>\n",
       "      <th>2</th>\n",
       "      <td>89395.0</td>\n",
       "      <td>91402.320843</td>\n",
       "    </tr>\n",
       "    <tr>\n",
       "      <th>3</th>\n",
       "      <td>89396.0</td>\n",
       "      <td>89359.994656</td>\n",
       "    </tr>\n",
       "    <tr>\n",
       "      <th>4</th>\n",
       "      <td>89397.0</td>\n",
       "      <td>136291.065376</td>\n",
       "    </tr>\n",
       "  </tbody>\n",
       "</table>\n",
       "</div>"
      ],
      "text/plain": [
       "        id           cltv\n",
       "0  89393.0   97108.752827\n",
       "1  89394.0  128883.512428\n",
       "2  89395.0   91402.320843\n",
       "3  89396.0   89359.994656\n",
       "4  89397.0  136291.065376"
      ]
     },
     "execution_count": 20,
     "metadata": {},
     "output_type": "execute_result"
    }
   ],
   "source": [
    "test_result = test_result.rename(columns={'Unnamed 0':'cltv'})\n",
    "test_result.head()"
   ]
  },
  {
   "cell_type": "code",
   "execution_count": 21,
   "id": "36ba6de0",
   "metadata": {},
   "outputs": [],
   "source": [
    "test_result.to_csv('D:\\\\ML\\\\DL Repo\\\\JOB-A-THON - January 2023\\\\test_result_CBR.csv',index=False)"
   ]
  },
  {
   "cell_type": "code",
   "execution_count": null,
   "id": "f2f64d0e",
   "metadata": {},
   "outputs": [],
   "source": []
  }
 ],
 "metadata": {
  "kernelspec": {
   "display_name": "Python 3 (ipykernel)",
   "language": "python",
   "name": "python3"
  },
  "language_info": {
   "codemirror_mode": {
    "name": "ipython",
    "version": 3
   },
   "file_extension": ".py",
   "mimetype": "text/x-python",
   "name": "python",
   "nbconvert_exporter": "python",
   "pygments_lexer": "ipython3",
   "version": "3.10.4"
  }
 },
 "nbformat": 4,
 "nbformat_minor": 5
}
